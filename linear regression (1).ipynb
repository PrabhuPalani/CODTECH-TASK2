{
 "cells": [
  {
   "cell_type": "code",
   "execution_count": 1,
   "id": "15eeb62b",
   "metadata": {},
   "outputs": [],
   "source": [
    "import pandas as pd\n",
    "import numpy as np\n",
    "from sklearn.model_selection import train_test_split\n",
    "from sklearn.linear_model import LinearRegression\n",
    "from sklearn.metrics import mean_squared_error, r2_score\n",
    "import matplotlib.pyplot as plt"
   ]
  },
  {
   "cell_type": "code",
   "execution_count": 2,
   "id": "60bff464",
   "metadata": {},
   "outputs": [],
   "source": [
    "file_path = 'C:/Users/PRABHU PALANI/Desktop/heart_disease_data_with_features.csv'\n",
    "heart_data = pd.read_csv(file_path)"
   ]
  },
  {
   "cell_type": "code",
   "execution_count": 3,
   "id": "5296e58a",
   "metadata": {},
   "outputs": [
    {
     "name": "stdout",
     "output_type": "stream",
     "text": [
      "<class 'pandas.core.frame.DataFrame'>\n",
      "RangeIndex: 303 entries, 0 to 302\n",
      "Data columns (total 36 columns):\n",
      " #   Column                 Non-Null Count  Dtype  \n",
      "---  ------                 --------------  -----  \n",
      " 0   age                    303 non-null    int64  \n",
      " 1   sex                    303 non-null    int64  \n",
      " 2   cp                     303 non-null    int64  \n",
      " 3   trestbps               303 non-null    int64  \n",
      " 4   chol                   303 non-null    int64  \n",
      " 5   fbs                    303 non-null    int64  \n",
      " 6   restecg                303 non-null    int64  \n",
      " 7   thalach                303 non-null    int64  \n",
      " 8   exang                  303 non-null    int64  \n",
      " 9   oldpeak                303 non-null    float64\n",
      " 10  slope                  303 non-null    int64  \n",
      " 11  ca                     299 non-null    float64\n",
      " 12  thal                   301 non-null    float64\n",
      " 13  num                    303 non-null    int64  \n",
      " 14  age_group              302 non-null    object \n",
      " 15  cholesterol_level      302 non-null    object \n",
      " 16  bp_level               301 non-null    object \n",
      " 17  risk_score             303 non-null    float64\n",
      " 18  symptom_severity       303 non-null    float64\n",
      " 19  log_chol               303 non-null    float64\n",
      " 20  log_trestbps           303 non-null    float64\n",
      " 21  age_squared            303 non-null    int64  \n",
      " 22  chol_squared           303 non-null    int64  \n",
      " 23  age_thalach_ratio      303 non-null    float64\n",
      " 24  risk_factor            301 non-null    float64\n",
      " 25  missing_values         303 non-null    int64  \n",
      " 26  chol_trestbps_ratio    303 non-null    float64\n",
      " 27  log_thalach_chol       303 non-null    float64\n",
      " 28  symptom_zscore         303 non-null    float64\n",
      " 29  avg_chol_by_age_group  302 non-null    float64\n",
      " 30  thalach_chol_diff      303 non-null    int64  \n",
      " 31  symptom_severity_diff  302 non-null    float64\n",
      " 32  age_chol_effect        303 non-null    int64  \n",
      " 33  thalach_risk_effect    303 non-null    float64\n",
      " 34  age_trestbps_effect    303 non-null    int64  \n",
      " 35  chol_risk_ratio        303 non-null    float64\n",
      "dtypes: float64(16), int64(17), object(3)\n",
      "memory usage: 85.3+ KB\n"
     ]
    },
    {
     "data": {
      "text/plain": [
       "(None,\n",
       "    age  sex  cp  trestbps  chol  fbs  restecg  thalach  exang  oldpeak  ...  \\\n",
       " 0   63    1   1       145   233    1        2      150      0      2.3  ...   \n",
       " 1   67    1   4       160   286    0        2      108      1      1.5  ...   \n",
       " 2   67    1   4       120   229    0        2      129      1      2.6  ...   \n",
       " 3   37    1   3       130   250    0        0      187      0      3.5  ...   \n",
       " 4   41    0   2       130   204    0        2      172      0      1.4  ...   \n",
       " \n",
       "    chol_trestbps_ratio  log_thalach_chol  symptom_zscore  \\\n",
       " 0             1.595890          0.919704       -0.275764   \n",
       " 1             1.776398          0.828936        0.568702   \n",
       " 2             1.892562          0.895083        1.572932   \n",
       " 3             1.908397          0.947695        1.595755   \n",
       " 4             1.557252          0.968116       -0.161647   \n",
       " \n",
       "    avg_chol_by_age_group thalach_chol_diff symptom_severity_diff  \\\n",
       " 0             260.024691               -83             -2.532099   \n",
       " 1             260.024691              -178              1.167901   \n",
       " 2             260.024691              -100              5.567901   \n",
       " 3             219.785714               -63              8.178571   \n",
       " 4             235.847222               -32              0.783333   \n",
       " \n",
       "   age_chol_effect  thalach_risk_effect  age_trestbps_effect  chol_risk_ratio  \n",
       " 0           14679             2419.350                 9135        13.602662  \n",
       " 1           19162             2242.296                10720        13.142174  \n",
       " 2           15343             2134.047                 8040        13.053640  \n",
       " 3            9250             1972.850                 4810        21.645022  \n",
       " 4            8364             1662.208                 5330        19.129782  \n",
       " \n",
       " [5 rows x 36 columns],\n",
       " Index(['age', 'sex', 'cp', 'trestbps', 'chol', 'fbs', 'restecg', 'thalach',\n",
       "        'exang', 'oldpeak', 'slope', 'ca', 'thal', 'num', 'age_group',\n",
       "        'cholesterol_level', 'bp_level', 'risk_score', 'symptom_severity',\n",
       "        'log_chol', 'log_trestbps', 'age_squared', 'chol_squared',\n",
       "        'age_thalach_ratio', 'risk_factor', 'missing_values',\n",
       "        'chol_trestbps_ratio', 'log_thalach_chol', 'symptom_zscore',\n",
       "        'avg_chol_by_age_group', 'thalach_chol_diff', 'symptom_severity_diff',\n",
       "        'age_chol_effect', 'thalach_risk_effect', 'age_trestbps_effect',\n",
       "        'chol_risk_ratio'],\n",
       "       dtype='object'))"
      ]
     },
     "execution_count": 3,
     "metadata": {},
     "output_type": "execute_result"
    }
   ],
   "source": [
    "# Display basic information and first few rows of the dataset\n",
    "heart_data_info = heart_data.info()\n",
    "heart_data_head = heart_data.head()\n",
    "heart_data_columns = heart_data.columns\n",
    "\n",
    "heart_data_info, heart_data_head, heart_data_columns"
   ]
  },
  {
   "cell_type": "code",
   "execution_count": 4,
   "id": "1bde4d71",
   "metadata": {},
   "outputs": [],
   "source": [
    "# Selecting relevant features and target variable\n",
    "# We use 'age' as the predictor and 'chol' as the target variable\n",
    "heart_data = heart_data[['age', 'chol']].dropna()\n"
   ]
  },
  {
   "cell_type": "code",
   "execution_count": 5,
   "id": "815ea8e1",
   "metadata": {},
   "outputs": [],
   "source": [
    "# Splitting the data into training and testing sets\n",
    "X = heart_data[['age']]\n",
    "y = heart_data['chol']\n",
    "X_train, X_test, y_train, y_test = train_test_split(X, y, test_size=0.2, random_state=42)\n"
   ]
  },
  {
   "cell_type": "code",
   "execution_count": 6,
   "id": "5b247684",
   "metadata": {},
   "outputs": [
    {
     "data": {
      "text/plain": [
       "LinearRegression()"
      ]
     },
     "execution_count": 6,
     "metadata": {},
     "output_type": "execute_result"
    }
   ],
   "source": [
    "# Training the Linear Regression model\n",
    "model = LinearRegression()\n",
    "model.fit(X_train, y_train)"
   ]
  },
  {
   "cell_type": "code",
   "execution_count": 7,
   "id": "f5bf701b",
   "metadata": {},
   "outputs": [],
   "source": [
    "y_pred = model.predict(X_test)"
   ]
  },
  {
   "cell_type": "code",
   "execution_count": 8,
   "id": "046a2f29",
   "metadata": {},
   "outputs": [],
   "source": [
    "# Evaluating the model\n",
    "mse = mean_squared_error(y_test, y_pred)\n",
    "r2 = r2_score(y_test, y_pred)"
   ]
  },
  {
   "cell_type": "code",
   "execution_count": 9,
   "id": "6fb4eea1",
   "metadata": {},
   "outputs": [
    {
     "name": "stdout",
     "output_type": "stream",
     "text": [
      "Mean Squared Error: 3812.308600876209\n",
      "R-squared: 0.05799088724535961\n",
      "Coefficients: [0.92931963]\n",
      "Intercept: 194.68774265549115\n"
     ]
    }
   ],
   "source": [
    "print(f'Mean Squared Error: {mse}')\n",
    "print(f'R-squared: {r2}')\n",
    "print(f'Coefficients: {model.coef_}')\n",
    "print(f'Intercept: {model.intercept_}')"
   ]
  },
  {
   "cell_type": "code",
   "execution_count": 10,
   "id": "0b00e928",
   "metadata": {},
   "outputs": [
    {
     "data": {
      "text/plain": [
       "<Figure size 720x360 with 0 Axes>"
      ]
     },
     "execution_count": 10,
     "metadata": {},
     "output_type": "execute_result"
    },
    {
     "data": {
      "text/plain": [
       "<Figure size 720x360 with 0 Axes>"
      ]
     },
     "metadata": {},
     "output_type": "display_data"
    }
   ],
   "source": [
    "# Visualization\n",
    "plt.figure(figsize=(10, 5))"
   ]
  },
  {
   "cell_type": "code",
   "execution_count": 11,
   "id": "bf4bcbb7",
   "metadata": {},
   "outputs": [
    {
     "data": {
      "text/plain": [
       "<matplotlib.collections.PathCollection at 0x1ff07b255b0>"
      ]
     },
     "execution_count": 11,
     "metadata": {},
     "output_type": "execute_result"
    },
    {
     "data": {
      "image/png": "[encoded data removed]",
      "text/plain": [
       "<Figure size 432x288 with 1 Axes>"
      ]
     },
     "metadata": {
      "needs_background": "light"
     },
     "output_type": "display_data"
    }
   ],
   "source": [
    "# Plot regression line\n",
    "plt.subplot(1, 2, 1)\n",
    "plt.scatter(X_test, y_test, color='blue', label='Actual')"
   ]
  },
  {
   "cell_type": "code",
   "execution_count": 12,
   "id": "0ddea86b",
   "metadata": {},
   "outputs": [
    {
     "data": {
      "text/plain": [
       "<matplotlib.legend.Legend at 0x1ff07bf47f0>"
      ]
     },
     "execution_count": 12,
     "metadata": {},
     "output_type": "execute_result"
    },
    {
     "data": {
      "image/png": "[encoded data removed]",
      "text/plain": [
       "<Figure size 720x360 with 1 Axes>"
      ]
     },
     "metadata": {
      "needs_background": "light"
     },
     "output_type": "display_data"
    }
   ],
   "source": [
    "# Visualization\n",
    "plt.figure(figsize=(10, 5))\n",
    "\n",
    "# Plot regression line\n",
    "plt.subplot(1, 2, 1)\n",
    "plt.scatter(X_test, y_test, color='blue', label='Actual')\n",
    "plt.plot(X_test.values, y_pred, color='red', linewidth=2, label='Predicted')\n",
    "plt.title('Age vs. Cholesterol')\n",
    "plt.xlabel('Age')\n",
    "plt.ylabel('Cholesterol')\n",
    "plt.legend()\n"
   ]
  },
  {
   "cell_type": "code",
   "execution_count": 13,
   "id": "5c319c32",
   "metadata": {},
   "outputs": [
    {
     "data": {
      "text/plain": [
       "Text(0, 0.5, 'Predicted Cholesterol')"
      ]
     },
     "execution_count": 13,
     "metadata": {},
     "output_type": "execute_result"
    },
    {
     "data": {
      "image/png": "[encoded data removed]",
      "text/plain": [
       "<Figure size 432x288 with 1 Axes>"
      ]
     },
     "metadata": {
      "needs_background": "light"
     },
     "output_type": "display_data"
    }
   ],
   "source": [
    "# Plot actual vs. predicted values\n",
    "plt.subplot(1, 2, 2)\n",
    "plt.scatter(y_test, y_pred, color='purple')\n",
    "plt.plot([y.min(), y.max()], [y.min(), y.max()], 'k--', linewidth=2)\n",
    "plt.title('Actual vs. Predicted Cholesterol')\n",
    "plt.xlabel('Actual Cholesterol')\n",
    "plt.ylabel('Predicted Cholesterol')\n"
   ]
  },
  {
   "cell_type": "code",
   "execution_count": 14,
   "id": "c4de2a21",
   "metadata": {},
   "outputs": [
    {
     "data": {
      "text/plain": [
       "<Figure size 432x288 with 0 Axes>"
      ]
     },
     "metadata": {},
     "output_type": "display_data"
    }
   ],
   "source": [
    "plt.tight_layout()\n",
    "plt.show()"
   ]
  },
  {
   "cell_type": "code",
   "execution_count": null,
   "id": "e947381b",
   "metadata": {},
   "outputs": [],
   "source": []
  },
  {
   "cell_type": "code",
   "execution_count": null,
   "id": "ba36e76f",
   "metadata": {},
   "outputs": [],
   "source": []
  }
 ],
 "metadata": {
  "kernelspec": {
   "display_name": "Python 3 (ipykernel)",
   "language": "python",
   "name": "python3"
  },
  "language_info": {
   "codemirror_mode": {
    "name": "ipython",
    "version": 3
   },
   "file_extension": ".py",
   "mimetype": "text/x-python",
   "name": "python",
   "nbconvert_exporter": "python",
   "pygments_lexer": "ipython3",
   "version": "3.9.12"
  }
 },
 "nbformat": 4,
 "nbformat_minor": 5
}
